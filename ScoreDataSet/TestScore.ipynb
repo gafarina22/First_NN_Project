{
 "cells": [
  {
   "cell_type": "code",
   "execution_count": 132,
   "metadata": {
    "collapsed": false
   },
   "outputs": [],
   "source": [
    "import numpy as np\n",
    "import pandas as pd\n",
    "\n",
    "def DataPrep(data):\n",
    "    # Make dummy variables for rank\n",
    "    data = pd.concat([admissions, pd.get_dummies(admissions['rank'], prefix='rank')], axis=1)\n",
    "    # Delete the previous rank\n",
    "    data = data.drop('rank', axis=1)\n",
    "    for field in ['gre', 'gpa']:\n",
    "        mean, std = data[field].mean(), data[field].std()\n",
    "        data.loc[:,field] = (data[field]-mean)/std\n",
    "    # Split off random 10% of the data for testing\n",
    "    np.random.seed(42)\n",
    "    sample = np.random.choice(data.index, size=int(len(data)*0.9),replace=False)\n",
    "    data, test_data = data.ix[sample],data.drop(sample)\n",
    "    # Split into features and targets\n",
    "    features_train, targets_train = data.drop('admit',axis=1), data['admit']\n",
    "    features_test, targets_test = test_data.drop('admit', axis=1), test_data['admit']\n",
    "    \n",
    "    return [features_train,targets_train,features_test,targets_test]\n",
    "\n",
    "def sigmoid(x):\n",
    "    return 1/(1+np.exp(-x))\n",
    "\n",
    "def BackPropOneLayer(features_train,targets_train,LearnRate,epochs,features_test,targets_test):\n",
    "    np.random.seed(42)\n",
    "    n_records,n_features = features_train.shape\n",
    "    last_loss = None\n",
    "    last_losstest = None\n",
    "    # Initialize weights\n",
    "    weights = np.random.normal(scale=1/n_features**.5, size=n_features)\n",
    "    for e in range(epochs):\n",
    "        del_w = np.zeros(weights.shape)\n",
    "        for x, y in zip(features_train.values,targets_train):\n",
    "               # Loop through all records, x is the input, y is the target\n",
    "               # Activation of the output unit\n",
    "               output = sigmoid(np.dot(x,weights))\n",
    "               # The error, the target minues the network output\n",
    "               error = y - output\n",
    "               # The gradient descent step, the error times the gradient times the inputs, This is the formula to get the\n",
    "               # Best direction to minimize the error\n",
    "               del_w += error * output * (1 - output)*x\n",
    "        weights += LearnRate*del_w/n_records\n",
    "        # The loop is using a initial weights then updating and appliying again with the new weight and so on\n",
    "        # Printing out the mean square error on the training set\n",
    "        if e % (epochs / 10) == 0:\n",
    "            out = sigmoid(np.dot(features_train, weights))\n",
    "            loss = np.mean((out - targets_train) ** 2)\n",
    "            if last_loss and last_loss < loss:\n",
    "                print(\"Train loss: \", loss, \"  WARNING - Loss Increasing\")\n",
    "            else:\n",
    "                print(\"Train loss: \", loss)\n",
    "            last_loss = loss\n",
    "            \n",
    "    tes_out = sigmoid(np.dot(features_test, weights))\n",
    "    # One or Zero\n",
    "    predictions = tes_out > 0.5\n",
    "    accuracy = np.mean(predictions == targets_test)\n",
    "    print(\"Prediction accuracy: {:.3f}\".format(accuracy))\n",
    "    return 0\n",
    "\n",
    "def BakPropMoreLayer(features_train,targets_train,LearnRate,epochs,features_test,targets_test,n_hidden):\n",
    "     n_records,n_features = features_train.shape\n",
    "     last_loss = None\n",
    "     # Initialize weights\n",
    "     weights_input_hidden = np.random.normal(scale=1/n_features ** -.5,size=(n_features, n_hidden))\n",
    "     weights_hidden_output = np.random.normal(scale=1 / n_features ** -.5,size=n_hidden)\n",
    "     for e in range(epochs):\n",
    "         # The vectors are the hidden (6,Unit hidden layer)  and the output a vector (unite hidden layer)\n",
    "         del_w_input_hidden = np.zeros(weights_input_hidden.shape)\n",
    "         del_w_hidden_output = np.zeros(weights_hidden_output.shape)\n",
    "         for x, y in zip(features_train.values, targets_train):\n",
    "             hidden_input = np.dot(x, weights_input_hidden)\n",
    "             hidden_activations = sigmoid(hidden_input)\n",
    "             output = sigmoid(np.dot(hidden_activations,weights_hidden_output))\n",
    "             ## Backward pass ##\n",
    "             # TODO: Calculate the error\n",
    "             error = y - output\n",
    "             # TODO: Calculate error gradient in output unit the sigmoid gradiet\n",
    "             output_error = error * output * (1 - output)\n",
    "             \n",
    "             hidden_error = np.dot(output_error, weights_hidden_output)*hidden_activations * (1 - hidden_activations)\n",
    "             \n",
    "             del_w_hidden_output += output_error * hidden_activations\n",
    "             # The x[:, None] transform to a matrix (6,1)\n",
    "             del_w_input_hidden += hidden_error * x[:, None]\n",
    "         weights_input_hidden += LearnRate * del_w_input_hidden / n_records\n",
    "         weights_hidden_output += LearnRate * del_w_hidden_output / n_records\n",
    "         # Printing out the mean square error on the training set\n",
    "         if e % (epochs / 10) == 0:\n",
    "                hidden_activations = sigmoid(np.dot(features_train, weights_input_hidden))\n",
    "                out = sigmoid(np.dot(hidden_activations,weights_hidden_output))\n",
    "                loss = np.mean((out - targets_train) ** 2)\n",
    "                if last_loss and last_loss < loss:\n",
    "                    print(\"Train loss: \", loss, \"  WARNING - Loss Increasing\")\n",
    "                else:\n",
    "                    print(\"Train loss: \", loss)\n",
    "                last_loss = loss\n",
    "                \n",
    "     hidden = sigmoid(np.dot(features_test, weights_input_hidden))\n",
    "     out = sigmoid(np.dot(hidden, weights_hidden_output))\n",
    "     predictions = out > 0.5\n",
    "     accuracy = np.mean(predictions == targets_test)\n",
    "     print(\"Prediction accuracy: {:.3f}\".format(accuracy))\n",
    "     return 0 \n",
    "\n"
   ]
  },
  {
   "cell_type": "code",
   "execution_count": 162,
   "metadata": {
    "collapsed": false
   },
   "outputs": [
    {
     "name": "stdout",
     "output_type": "stream",
     "text": [
      "Train loss:  0.365736380539\n",
      "Train loss:  0.208997218062\n",
      "Train loss:  0.196185234326\n",
      "Train loss:  0.192816645321\n",
      "Train loss:  0.191028696139\n",
      "Train loss:  0.189782793074\n",
      "Train loss:  0.188774989314\n",
      "Train loss:  0.1879137881\n",
      "Train loss:  0.187164076343\n",
      "Train loss:  0.186506570542\n",
      "Prediction accuracy: 0.775\n"
     ]
    }
   ],
   "source": [
    "np.random.seed(50)\n",
    "admissions = pd.read_csv('TestScore.csv')\n",
    "dataset = DataPrep(admissions)\n",
    "#lr 0.6\n",
    "learnrate = 0.6\n",
    "x = dataset[0]\n",
    "y = dataset[1]\n",
    "xtest = dataset[2]\n",
    "ytest = dataset[3]\n",
    "ep = 3000\n",
    "#OneLay = BackPropOneLayer(x,y,learnrate,ep,xtest,ytest)\n",
    "MoreThanOneLayer = BakPropMoreLayer(x,y,learnrate,ep,xtest,ytest,10)"
   ]
  },
  {
   "cell_type": "code",
   "execution_count": null,
   "metadata": {
    "collapsed": false
   },
   "outputs": [],
   "source": []
  },
  {
   "cell_type": "code",
   "execution_count": null,
   "metadata": {
    "collapsed": false
   },
   "outputs": [],
   "source": []
  },
  {
   "cell_type": "code",
   "execution_count": null,
   "metadata": {
    "collapsed": false
   },
   "outputs": [],
   "source": []
  },
  {
   "cell_type": "code",
   "execution_count": null,
   "metadata": {
    "collapsed": true
   },
   "outputs": [],
   "source": []
  }
 ],
 "metadata": {
  "anaconda-cloud": {},
  "kernelspec": {
   "display_name": "Python [conda env:dlnd]",
   "language": "python",
   "name": "conda-env-dlnd-py"
  },
  "language_info": {
   "codemirror_mode": {
    "name": "ipython",
    "version": 3
   },
   "file_extension": ".py",
   "mimetype": "text/x-python",
   "name": "python",
   "nbconvert_exporter": "python",
   "pygments_lexer": "ipython3",
   "version": "3.6.0"
  }
 },
 "nbformat": 4,
 "nbformat_minor": 2
}
